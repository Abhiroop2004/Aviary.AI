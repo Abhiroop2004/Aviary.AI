{
 "cells": [
  {
   "cell_type": "markdown",
   "metadata": {},
   "source": [
    "## Import Packages\n",
    "Packages and helper functions"
   ]
  },
  {
   "cell_type": "code",
   "execution_count": 3,
   "metadata": {},
   "outputs": [],
   "source": [
    "import google.generativeai as genai\n",
    "import wikipedia as wiki\n",
    "from PyPDF2 import PdfReader\n",
    "from langchain.text_splitter import RecursiveCharacterTextSplitter\n",
    "from langchain_google_genai import GoogleGenerativeAIEmbeddings\n",
    "from pathlib import Path\n",
    "import os\n",
    "import textwrap\n",
    "from langchain.vectorstores import FAISS\n",
    "from langchain.prompts import PromptTemplate\n",
    "from IPython.display import Markdown\n",
    "\n",
    "\n",
    "def to_markdown(text):\n",
    "    text = text.replace(\"•\", \"  *\")\n",
    "    return Markdown(textwrap.indent(text, \"> \", predicate=lambda _: True))"
   ]
  },
  {
   "cell_type": "markdown",
   "metadata": {},
   "source": [
    "## Get API Key\n",
    "Get the Gemini (Google) Api Key from .env file"
   ]
  },
  {
   "cell_type": "code",
   "execution_count": 4,
   "metadata": {},
   "outputs": [],
   "source": [
    "api = os.getenv('GOOGLE_API_KEY')\n",
    "genai.configure(api_key=api)\n",
    "model = genai.GenerativeModel(\"gemini-1.5-flash\")"
   ]
  },
  {
   "cell_type": "markdown",
   "metadata": {},
   "source": [
    "### Example\n",
    "An example use case"
   ]
  },
  {
   "cell_type": "code",
   "execution_count": 5,
   "metadata": {},
   "outputs": [
    {
     "name": "stdout",
     "output_type": "stream",
     "text": [
      "CPU times: total: 93.8 ms\n",
      "Wall time: 4.63 s\n"
     ]
    },
    {
     "data": {
      "text/markdown": [
       "> Peregrine falcons, the world's fastest animals, are large, cosmopolitan birds of prey with distinctive blue-grey and white plumage.  Reaching speeds exceeding 320 km/h in dives, they inhabit diverse regions globally, except for extreme polar areas, high mountains, and most rainforests.  Females are larger than males.\n"
      ],
      "text/plain": [
       "<IPython.core.display.Markdown object>"
      ]
     },
     "execution_count": 5,
     "metadata": {},
     "output_type": "execute_result"
    }
   ],
   "source": [
    "%%time\n",
    "response = model.generate_content(f\"Summarize the following text in 40 words: {wiki.summary(\"Peregrine Falcon\", sentences=20)}\")\n",
    "to_markdown(response.text)"
   ]
  },
  {
   "cell_type": "markdown",
   "metadata": {},
   "source": [
    "## Custom Data\n",
    "Load data from Encyclopedia"
   ]
  },
  {
   "cell_type": "markdown",
   "metadata": {},
   "source": [
    "### PDF -> Vectors -> Database"
   ]
  },
  {
   "cell_type": "code",
   "execution_count": 8,
   "metadata": {},
   "outputs": [
    {
     "name": "stdout",
     "output_type": "stream",
     "text": [
      "file1: Data\\Animals- A Visual Encyclopedia - DK - Birds section.pdf\n",
      "file2: Data\\Book of Indian Birds.pdf\n",
      "file3: Data\\Encyclopedia of birds - International Masters Publishing_2007.pdf\n",
      "file4: Data\\Illustrated Encyclopedia of Birds - DK.pdf\n"
     ]
    }
   ],
   "source": [
    "data_folder = \"Data\"\n",
    "\n",
    "files = [os.path.join(data_folder, file) for file in os.listdir(data_folder) if os.path.isfile(os.path.join(data_folder, file))]\n",
    "\n",
    "for i, file in enumerate(files, start=1):\n",
    "    globals()[f\"file{i}\"] = file\n",
    "\n",
    "for i, file in enumerate(files, start=1):\n",
    "    print(f\"file{i}: {globals()[f'file{i}']}\")"
   ]
  },
  {
   "cell_type": "code",
   "execution_count": 13,
   "metadata": {},
   "outputs": [],
   "source": [
    "pdf_files = [os.path.join(data_folder, file) for file in os.listdir(data_folder)]"
   ]
  },
  {
   "cell_type": "code",
   "execution_count": 16,
   "metadata": {},
   "outputs": [],
   "source": [
    "data_pdf = {}\n",
    "\n",
    "for i, file_path in enumerate(pdf_files, start=1):\n",
    "    with open(file_path, \"rb\") as file:\n",
    "        pdf = PdfReader(file)\n",
    "        n_pages = len(pdf.pages)\n",
    "        text = \"\"\n",
    "        for page in range(n_pages):\n",
    "            text += \"\\n\" + pdf.pages[page].extract_text()\n",
    "        data_pdf[f\"text{i}\"] = text"
   ]
  },
  {
   "cell_type": "code",
   "execution_count": 21,
   "metadata": {},
   "outputs": [],
   "source": [
    "with open(file1, \"rb\") as file:\n",
    "    pdf = PdfReader(file)\n",
    "    n_pages = len(pdf.pages)\n",
    "    text1 = \"\"\n",
    "    for i in range(n_pages):\n",
    "        text1+= \"\\n\"+pdf.pages[i].extract_text()\n",
    "\n",
    "with open(file2, \"rb\") as file:\n",
    "    pdf = PdfReader(file)\n",
    "    n_pages = len(pdf.pages)\n",
    "    text2 = \"\"\n",
    "    for i in range(n_pages):\n",
    "        text2+= \"\\n\"+pdf.pages[i].extract_text()\n",
    "\n",
    "with open(file3, \"rb\") as file:\n",
    "    pdf = PdfReader(file)\n",
    "    n_pages = len(pdf.pages)\n",
    "    text3 = \"\"\n",
    "    for i in range(n_pages):\n",
    "        text3+= \"\\n\"+pdf.pages[i].extract_text()\n",
    "\n",
    "with open(file4, \"rb\") as file:\n",
    "    pdf = PdfReader(file)\n",
    "    n_pages = len(pdf.pages)\n",
    "    text3 = \"\"\n",
    "    for i in range(n_pages):\n",
    "        text4+= \"\\n\"+pdf.pages[i].extract_text()"
   ]
  },
  {
   "cell_type": "code",
   "execution_count": 18,
   "metadata": {},
   "outputs": [],
   "source": [
    "def get_chunks(text : str):\n",
    "    splitter = RecursiveCharacterTextSplitter(chunk_size=2000, chunk_overlap=200) \n",
    "    chunks = splitter.split_text(text)\n",
    "    return chunks\n",
    "\n",
    "def get_vectorstore(chunks):\n",
    "    embeddings = GoogleGenerativeAIEmbeddings(model=\"models/embedding-001\")\n",
    "    if Path(\"faiss_index\").exists():\n",
    "        vectorstore = FAISS.load_local(\"faiss_index\", embeddings = embeddings, allow_dangerous_deserialization=True)\n",
    "        vectorstore.add_texts(chunks)\n",
    "    else:\n",
    "        vectorstore = FAISS.from_texts(chunks, embedding = embeddings)\n",
    "    vectorstore.save_local(\"faiss_index\")"
   ]
  },
  {
   "cell_type": "code",
   "execution_count": 19,
   "metadata": {},
   "outputs": [],
   "source": [
    "for i in range(len(data_pdf)):\n",
    "    chunk = get_chunks(data_pdf[f\"text{i+1}\"])\n",
    "    get_vectorstore(chunk)"
   ]
  },
  {
   "cell_type": "markdown",
   "metadata": {},
   "source": [
    "## Prompting\n",
    "Prepare prompt template and set up response for User with an example"
   ]
  },
  {
   "cell_type": "code",
   "execution_count": 20,
   "metadata": {},
   "outputs": [],
   "source": [
    "prompt_template = \"\"\"You are a knowledgeable bird encyclopedia chatbot. \n",
    "Use {content} (from a PDF encyclopedia) and Wikipedia API to provide accurate information about the bird \"{bird}\". \n",
    "If no reliable information is found, respond with \"No information is available about {bird}.\" \n",
    "\n",
    "Include the following details: (if available otherwise skip)\n",
    "- Scientific name \n",
    "- Physical description\n",
    "- Length\n",
    "- Wingspan\n",
    "- Weight\n",
    "- Lifespan\n",
    "- Habitat\n",
    "- Diet\n",
    "- Behavior\n",
    "- Distribution\n",
    "- Conservation status\n",
    "- Interesting fact\n",
    "\n",
    "Ensure responses are concise, factual, and sourced from given data. If {bird} is fictional or misspelled, clarify that no data exists.\n",
    "Note: The response should not write the source or document ID, if some information is not available, just skip it.\"\"\""
   ]
  },
  {
   "cell_type": "code",
   "execution_count": 21,
   "metadata": {},
   "outputs": [],
   "source": [
    "def user_input( bird : str):\n",
    "    prompt = PromptTemplate(template=prompt_template, input_variables=[\"content\", \"bird\"])\n",
    "    database = FAISS.load_local(\"faiss_index\", GoogleGenerativeAIEmbeddings(model=\"models/embedding-001\"), allow_dangerous_deserialization=True)\n",
    "    encyclopedia_info = database.similarity_search(bird).append(wiki.page(bird).content)\n",
    "    response = model.generate_content(prompt.format(content = encyclopedia_info, bird = bird))\n",
    "    return response"
   ]
  },
  {
   "cell_type": "code",
   "execution_count": 23,
   "metadata": {},
   "outputs": [
    {
     "name": "stdout",
     "output_type": "stream",
     "text": [
      "CPU times: total: 93.8 ms\n",
      "Wall time: 5.59 s\n"
     ]
    },
    {
     "data": {
      "text/markdown": [
       "> Scientific name: *Aquila chrysaetos*\n",
       "> \n",
       "> Physical description: Large, powerful bird of prey with dark brown body, golden-brown head and neck.\n",
       "> \n",
       "> Length: 76-102 cm\n",
       "> \n",
       "> Wingspan: 1.8-2.3 m\n",
       "> \n",
       "> Weight: 3.8-6.5 kg\n",
       "> \n",
       "> Lifespan: 20-40 years in the wild\n",
       "> \n",
       "> Habitat: Mountainous regions, open woodlands, and grasslands.\n",
       "> \n",
       "> Diet: Primarily mammals such as rabbits, marmots, and ground squirrels; also birds, reptiles, and carrion.\n",
       "> \n",
       "> Behavior:  Solitary or paired birds, highly territorial.  Excellent fliers, known for their powerful talons and hunting prowess.\n",
       "> \n",
       "> Distribution:  Northern Hemisphere, including North America, Europe, and Asia.\n",
       "> \n",
       "> Conservation status: Least Concern (though populations can vary regionally)\n",
       "> \n",
       "> Interesting fact: Golden eagles have exceptionally sharp eyesight, enabling them to spot prey from great distances.\n"
      ],
      "text/plain": [
       "<IPython.core.display.Markdown object>"
      ]
     },
     "execution_count": 23,
     "metadata": {},
     "output_type": "execute_result"
    }
   ],
   "source": [
    "%%time\n",
    "output = user_input(\"Golden Eagle\")\n",
    "to_markdown(output.text)"
   ]
  }
 ],
 "metadata": {
  "kernelspec": {
   "display_name": "Python 3",
   "language": "python",
   "name": "python3"
  },
  "language_info": {
   "codemirror_mode": {
    "name": "ipython",
    "version": 3
   },
   "file_extension": ".py",
   "mimetype": "text/x-python",
   "name": "python",
   "nbconvert_exporter": "python",
   "pygments_lexer": "ipython3",
   "version": "3.12.6"
  }
 },
 "nbformat": 4,
 "nbformat_minor": 2
}
